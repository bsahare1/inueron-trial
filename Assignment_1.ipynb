{
  "nbformat": 4,
  "nbformat_minor": 0,
  "metadata": {
    "colab": {
      "provenance": []
    },
    "kernelspec": {
      "name": "python3",
      "display_name": "Python 3"
    },
    "language_info": {
      "name": "python"
    }
  },
  "cells": [
    {
      "cell_type": "markdown",
      "source": [
        "#1.Find out all the types of error that we have encountered in our lecture and why? Also include the examples.\n",
        "\n",
        "\n",
        "\n"
      ],
      "metadata": {
        "id": "zMYs7_jbzssO"
      }
    },
    {
      "cell_type": "code",
      "execution_count": 5,
      "metadata": {
        "id": "V-s72nEMIEy0",
        "colab": {
          "base_uri": "https://localhost:8080/",
          "height": 200
        },
        "outputId": "25e29aac-3aad-470b-bdec-bea6d7f36be9"
      },
      "outputs": [
        {
          "output_type": "error",
          "ename": "NameError",
          "evalue": "ignored",
          "traceback": [
            "\u001b[0;31m---------------------------------------------------------------------------\u001b[0m",
            "\u001b[0;31mNameError\u001b[0m                                 Traceback (most recent call last)",
            "\u001b[0;32m<ipython-input-5-ed6c46eee8ae>\u001b[0m in \u001b[0;36m<module>\u001b[0;34m\u001b[0m\n\u001b[1;32m      2\u001b[0m \u001b[0mten\u001b[0m \u001b[0;34m=\u001b[0m \u001b[0;36m20\u001b[0m\u001b[0;34m\u001b[0m\u001b[0;34m\u001b[0m\u001b[0m\n\u001b[1;32m      3\u001b[0m \u001b[0;31m# TEN and ten both are different in terms of lowercase and uppercase letter\u001b[0m\u001b[0;34m\u001b[0m\u001b[0;34m\u001b[0m\u001b[0;34m\u001b[0m\u001b[0m\n\u001b[0;32m----> 4\u001b[0;31m \u001b[0mprint\u001b[0m\u001b[0;34m(\u001b[0m\u001b[0mTen\u001b[0m\u001b[0;34m)\u001b[0m\u001b[0;34m\u001b[0m\u001b[0;34m\u001b[0m\u001b[0m\n\u001b[0m",
            "\u001b[0;31mNameError\u001b[0m: name 'Ten' is not defined"
          ]
        }
      ],
      "source": [
        "TEN = 10\n",
        "ten = 20\n",
        "# TEN and ten both are different in terms of lowercase and uppercase letter\n",
        "print(Ten)"
      ]
    },
    {
      "cell_type": "markdown",
      "source": [
        "***i. Above error is because python is case sensitive so variables TEN, ten and Ten, all 3 are different***"
      ],
      "metadata": {
        "id": "wRmFFq7w8qfI"
      }
    },
    {
      "cell_type": "code",
      "source": [
        "print = 12 # as a variable\n",
        "type(print)\n",
        "print(\" Hi there \")"
      ],
      "metadata": {
        "colab": {
          "base_uri": "https://localhost:8080/",
          "height": 200
        },
        "id": "qeAy8cue9wpm",
        "outputId": "adc51b8d-f6ea-4612-8f89-88c813bad02f"
      },
      "execution_count": 6,
      "outputs": [
        {
          "output_type": "error",
          "ename": "TypeError",
          "evalue": "ignored",
          "traceback": [
            "\u001b[0;31m---------------------------------------------------------------------------\u001b[0m",
            "\u001b[0;31mTypeError\u001b[0m                                 Traceback (most recent call last)",
            "\u001b[0;32m<ipython-input-6-18fa102f545a>\u001b[0m in \u001b[0;36m<module>\u001b[0;34m\u001b[0m\n\u001b[1;32m      1\u001b[0m \u001b[0mprint\u001b[0m \u001b[0;34m=\u001b[0m \u001b[0;36m12\u001b[0m \u001b[0;31m# as a variable\u001b[0m\u001b[0;34m\u001b[0m\u001b[0;34m\u001b[0m\u001b[0m\n\u001b[1;32m      2\u001b[0m \u001b[0mtype\u001b[0m\u001b[0;34m(\u001b[0m\u001b[0mprint\u001b[0m\u001b[0;34m)\u001b[0m\u001b[0;34m\u001b[0m\u001b[0;34m\u001b[0m\u001b[0m\n\u001b[0;32m----> 3\u001b[0;31m \u001b[0mprint\u001b[0m\u001b[0;34m(\u001b[0m\u001b[0;34m\" Hi there \"\u001b[0m\u001b[0;34m)\u001b[0m\u001b[0;34m\u001b[0m\u001b[0;34m\u001b[0m\u001b[0m\n\u001b[0m",
            "\u001b[0;31mTypeError\u001b[0m: 'int' object is not callable"
          ]
        }
      ]
    },
    {
      "cell_type": "markdown",
      "source": [
        "***ii. Above error is because of print is a reserved word..there are 33 reserved words which have predifined meanings and syntax..one should not use these words as variable names because this doing that changes their meanings***"
      ],
      "metadata": {
        "id": "DfC7AYtp99f0"
      }
    },
    {
      "cell_type": "code",
      "source": [
        "del print # delete the variable print"
      ],
      "metadata": {
        "id": "kGtQHsL0-jNW"
      },
      "execution_count": 7,
      "outputs": []
    },
    {
      "cell_type": "code",
      "source": [
        "# calcualte the age of the user\n",
        "\n",
        "name = input(\"Name: \") # always gives you string values\n",
        "place = input(\"place: \")\n",
        "year_of_birth = input(\"year_of_birth: \")\n",
        "\n",
        "age = 2022 - year_of_birth\n",
        "\n",
        "print(f\"\"\"\n",
        "My name is: {name}\n",
        "I live at: {place}\n",
        "{name} is of age: {age}\n",
        "\"\"\")"
      ],
      "metadata": {
        "colab": {
          "base_uri": "https://localhost:8080/",
          "height": 287
        },
        "id": "7ZaJ_qKC-rsq",
        "outputId": "308fee6c-4d2b-4531-dc42-7b4163039025"
      },
      "execution_count": 8,
      "outputs": [
        {
          "name": "stdout",
          "output_type": "stream",
          "text": [
            "Name: Raj\n",
            "place: Delhi\n",
            "year_of_birth: 1998\n"
          ]
        },
        {
          "output_type": "error",
          "ename": "TypeError",
          "evalue": "ignored",
          "traceback": [
            "\u001b[0;31m---------------------------------------------------------------------------\u001b[0m",
            "\u001b[0;31mTypeError\u001b[0m                                 Traceback (most recent call last)",
            "\u001b[0;32m<ipython-input-8-2eec01983159>\u001b[0m in \u001b[0;36m<module>\u001b[0;34m\u001b[0m\n\u001b[1;32m      5\u001b[0m \u001b[0myear_of_birth\u001b[0m \u001b[0;34m=\u001b[0m \u001b[0minput\u001b[0m\u001b[0;34m(\u001b[0m\u001b[0;34m\"year_of_birth: \"\u001b[0m\u001b[0;34m)\u001b[0m\u001b[0;34m\u001b[0m\u001b[0;34m\u001b[0m\u001b[0m\n\u001b[1;32m      6\u001b[0m \u001b[0;34m\u001b[0m\u001b[0m\n\u001b[0;32m----> 7\u001b[0;31m \u001b[0mage\u001b[0m \u001b[0;34m=\u001b[0m \u001b[0;36m2022\u001b[0m \u001b[0;34m-\u001b[0m \u001b[0myear_of_birth\u001b[0m\u001b[0;34m\u001b[0m\u001b[0;34m\u001b[0m\u001b[0m\n\u001b[0m\u001b[1;32m      8\u001b[0m \u001b[0;34m\u001b[0m\u001b[0m\n\u001b[1;32m      9\u001b[0m print(f\"\"\"\n",
            "\u001b[0;31mTypeError\u001b[0m: unsupported operand type(s) for -: 'int' and 'str'"
          ]
        }
      ]
    },
    {
      "cell_type": "markdown",
      "source": [
        "***iii. Above error is because input() function takes input as a string..so we must change the datatype of year_of_birth to int***"
      ],
      "metadata": {
        "id": "4BkBpNOh_w8l"
      }
    },
    {
      "cell_type": "code",
      "source": [
        "A = float(input(\"Enter value of A: \"))\n",
        "B = int(input(\"Enter value of B: \")) # 10.2 is float but converting to int\n",
        "\n",
        "print(f\"Sum of A and B is: {A+B}\")"
      ],
      "metadata": {
        "colab": {
          "base_uri": "https://localhost:8080/",
          "height": 252
        },
        "id": "Gc9ecE34A8mw",
        "outputId": "a18e882a-bce3-4df9-eb74-aeb940b2a5a7"
      },
      "execution_count": 9,
      "outputs": [
        {
          "name": "stdout",
          "output_type": "stream",
          "text": [
            "Enter value of A: 10.2\n",
            "Enter value of B: 10.2\n"
          ]
        },
        {
          "output_type": "error",
          "ename": "ValueError",
          "evalue": "ignored",
          "traceback": [
            "\u001b[0;31m---------------------------------------------------------------------------\u001b[0m",
            "\u001b[0;31mValueError\u001b[0m                                Traceback (most recent call last)",
            "\u001b[0;32m<ipython-input-9-476a8e264fdf>\u001b[0m in \u001b[0;36m<module>\u001b[0;34m\u001b[0m\n\u001b[1;32m      1\u001b[0m \u001b[0mA\u001b[0m \u001b[0;34m=\u001b[0m \u001b[0mfloat\u001b[0m\u001b[0;34m(\u001b[0m\u001b[0minput\u001b[0m\u001b[0;34m(\u001b[0m\u001b[0;34m\"Enter value of A: \"\u001b[0m\u001b[0;34m)\u001b[0m\u001b[0;34m)\u001b[0m\u001b[0;34m\u001b[0m\u001b[0;34m\u001b[0m\u001b[0m\n\u001b[0;32m----> 2\u001b[0;31m \u001b[0mB\u001b[0m \u001b[0;34m=\u001b[0m \u001b[0mint\u001b[0m\u001b[0;34m(\u001b[0m\u001b[0minput\u001b[0m\u001b[0;34m(\u001b[0m\u001b[0;34m\"Enter value of B: \"\u001b[0m\u001b[0;34m)\u001b[0m\u001b[0;34m)\u001b[0m \u001b[0;31m# 10.2 is float but converting to int\u001b[0m\u001b[0;34m\u001b[0m\u001b[0;34m\u001b[0m\u001b[0m\n\u001b[0m\u001b[1;32m      3\u001b[0m \u001b[0;34m\u001b[0m\u001b[0m\n\u001b[1;32m      4\u001b[0m \u001b[0mprint\u001b[0m\u001b[0;34m(\u001b[0m\u001b[0;34mf\"Sum of A and B is: {A+B}\"\u001b[0m\u001b[0;34m)\u001b[0m\u001b[0;34m\u001b[0m\u001b[0;34m\u001b[0m\u001b[0m\n",
            "\u001b[0;31mValueError\u001b[0m: invalid literal for int() with base 10: '10.2'"
          ]
        }
      ]
    },
    {
      "cell_type": "markdown",
      "source": [
        "***iv. Above error is beacause of wrong input. for B, datatype is int but 10.2 is float..so one must give input according to datatype***"
      ],
      "metadata": {
        "id": "DFYtKYhlBEfO"
      }
    },
    {
      "cell_type": "code",
      "source": [
        "# empty string to int\n",
        "A = \"\"\n",
        "print(f\"data type before: {type(A)}, value of A: {A}\")\n",
        "A = int(A)\n",
        "print(f\"data type after: {type(A)}, value of A: {A}\")"
      ],
      "metadata": {
        "colab": {
          "base_uri": "https://localhost:8080/",
          "height": 235
        },
        "id": "y9JvrElDCFDq",
        "outputId": "f458a728-0ee3-4cc8-df9a-5fe154931bd2"
      },
      "execution_count": 10,
      "outputs": [
        {
          "output_type": "stream",
          "name": "stdout",
          "text": [
            "data type before: <class 'str'>, value of A: \n"
          ]
        },
        {
          "output_type": "error",
          "ename": "ValueError",
          "evalue": "ignored",
          "traceback": [
            "\u001b[0;31m---------------------------------------------------------------------------\u001b[0m",
            "\u001b[0;31mValueError\u001b[0m                                Traceback (most recent call last)",
            "\u001b[0;32m<ipython-input-10-a8248b2f88e9>\u001b[0m in \u001b[0;36m<module>\u001b[0;34m\u001b[0m\n\u001b[1;32m      2\u001b[0m \u001b[0mA\u001b[0m \u001b[0;34m=\u001b[0m \u001b[0;34m\"\"\u001b[0m\u001b[0;34m\u001b[0m\u001b[0;34m\u001b[0m\u001b[0m\n\u001b[1;32m      3\u001b[0m \u001b[0mprint\u001b[0m\u001b[0;34m(\u001b[0m\u001b[0;34mf\"data type before: {type(A)}, value of A: {A}\"\u001b[0m\u001b[0;34m)\u001b[0m\u001b[0;34m\u001b[0m\u001b[0;34m\u001b[0m\u001b[0m\n\u001b[0;32m----> 4\u001b[0;31m \u001b[0mA\u001b[0m \u001b[0;34m=\u001b[0m \u001b[0mint\u001b[0m\u001b[0;34m(\u001b[0m\u001b[0mA\u001b[0m\u001b[0;34m)\u001b[0m\u001b[0;34m\u001b[0m\u001b[0;34m\u001b[0m\u001b[0m\n\u001b[0m\u001b[1;32m      5\u001b[0m \u001b[0mprint\u001b[0m\u001b[0;34m(\u001b[0m\u001b[0;34mf\"data type after: {type(A)}, value of A: {A}\"\u001b[0m\u001b[0;34m)\u001b[0m\u001b[0;34m\u001b[0m\u001b[0;34m\u001b[0m\u001b[0m\n",
            "\u001b[0;31mValueError\u001b[0m: invalid literal for int() with base 10: ''"
          ]
        }
      ]
    },
    {
      "cell_type": "markdown",
      "source": [
        "***v. Above error is becasuse empty string cannot be converted to other datatypes***"
      ],
      "metadata": {
        "id": "wB3ytZG5CING"
      }
    },
    {
      "cell_type": "markdown",
      "source": [
        "-------------------------------------------"
      ],
      "metadata": {
        "id": "ZX-mZJCT0JJu"
      }
    },
    {
      "cell_type": "markdown",
      "source": [
        "#2. Take input A and B and print their sum, mul, div, square of the nos."
      ],
      "metadata": {
        "id": "1Ry0HVXt0CHa"
      }
    },
    {
      "cell_type": "code",
      "source": [
        "a = int(input(\"Enter A: \"))\n",
        "b = int(input(\"Enter B: \"))\n",
        "print(f\"The Sum of numbers A and B is {a + b}\")\n",
        "print(f\"The Multiplication of numbers A and B is {a * b}\")\n",
        "print(f\"The Division of numbers A and B is A/B = {a / b} and B/A = {b /a}\")\n",
        "print(f\"The Square of number A is {a**2} and number B is {b**2}\")\n"
      ],
      "metadata": {
        "colab": {
          "base_uri": "https://localhost:8080/"
        },
        "id": "f3Os1Cnx0OCm",
        "outputId": "78a4ed45-9c2f-45c2-9613-64162590ee48"
      },
      "execution_count": 4,
      "outputs": [
        {
          "output_type": "stream",
          "name": "stdout",
          "text": [
            "Enter A: 12\n",
            "Enter B: 10\n",
            "The Sum of numbers A and B is 22\n",
            "The Multiplication of numbers A and B is 120\n",
            "The Division of numbers A and B is A/B = 1.2 and B/A = 0.8333333333333334\n",
            "The Square of number A is 144 and number B is 100\n"
          ]
        }
      ]
    },
    {
      "cell_type": "markdown",
      "source": [
        "#3. How many reserve keywords are there in python and why we should not use them as a variable name.\n",
        "\n",
        "##*Answer--*\n",
        "- There are 33 reserve keywords in python as per current version\n",
        "\n",
        "- We should not use these reserved keywords as variable names beacause these words have specific predifined meanings, syntax and use in Python and if we use them as variable then they will act like a datatype. This will give errors while compiling.\n",
        "\n"
      ],
      "metadata": {
        "id": "MpG6chJ63FTZ"
      }
    },
    {
      "cell_type": "markdown",
      "source": [
        "#4. Create email ids with the user inputs. in the following format - lastname.firstname@gmail.com"
      ],
      "metadata": {
        "id": "nlPBN5QN3PvC"
      }
    },
    {
      "cell_type": "code",
      "source": [
        "first_name = input(\"Enter your firstname: \")\n",
        "last_name = input(\"Enter your lastname: \")\n",
        "print(f\"Your email id is {last_name}.{first_name}@gmail.com\")"
      ],
      "metadata": {
        "colab": {
          "base_uri": "https://localhost:8080/"
        },
        "id": "zsGCLoRH3Sej",
        "outputId": "94d5cc0b-d420-4978-f3b9-a90ba8d99bec"
      },
      "execution_count": 11,
      "outputs": [
        {
          "output_type": "stream",
          "name": "stdout",
          "text": [
            "Enter your firstname: Raj\n",
            "Enter your lastname: Aryan\n",
            "Your email id is Aryan.Raj@gmail.com\n"
          ]
        }
      ]
    },
    {
      "cell_type": "markdown",
      "source": [
        "#5. Try to print the following lines -\n",
        "Hi I'm Sunny\n",
        "\n",
        "My address is 22\\3\n",
        "\n",
        "I earn 20$ daily."
      ],
      "metadata": {
        "id": "nT31VSIF4fL9"
      }
    },
    {
      "cell_type": "code",
      "source": [
        "name, address, wage = \"Sunny\", \"22\\\\3\", 20\n",
        "\n",
        "print(f\"\"\"\n",
        "Hi I'm {name}\n",
        "My address is {address}\n",
        "I earn {wage}$ daily.\n",
        "\"\"\")"
      ],
      "metadata": {
        "colab": {
          "base_uri": "https://localhost:8080/"
        },
        "id": "f7X7ZQyh5KjH",
        "outputId": "21098de9-8366-49e1-ff2f-a60bcc01829e"
      },
      "execution_count": 12,
      "outputs": [
        {
          "output_type": "stream",
          "name": "stdout",
          "text": [
            "\n",
            "Hi I'm Sunny\n",
            "My address is 22\\3\n",
            "I earn 20$ daily.\n",
            "\n"
          ]
        }
      ]
    },
    {
      "cell_type": "markdown",
      "source": [
        "#6. Take user input (name, address, date of birth etc) to fill a form for your college and print their email IDs"
      ],
      "metadata": {
        "id": "io8BVJ-U4oyd"
      }
    },
    {
      "cell_type": "code",
      "source": [
        "first_name = input(\"Enter your first name: \")\n",
        "last_name = input(\"Enter your last name: \")\n",
        "address = input(\"Enter your address: \")\n",
        "birthdate = input(\"Enter your Date of Birth: \")\n",
        "\n",
        "print(f\"\\n Full Name: {first_name} {last_name}\")\n",
        "print(f\"Address: {address} \")\n",
        "print(f\"Date of Birth: {birthdate}\")\n",
        "print(f\"Email id: {last_name}.{first_name}@gmail.com\")"
      ],
      "metadata": {
        "colab": {
          "base_uri": "https://localhost:8080/"
        },
        "id": "zvicCddKcD3E",
        "outputId": "59c58059-34c8-40d8-f752-77921dffac1a"
      },
      "execution_count": 14,
      "outputs": [
        {
          "output_type": "stream",
          "name": "stdout",
          "text": [
            "Enter your first name: Raj\n",
            "Enter your last name: Aryan\n",
            "Enter your address: 24th steet, Delhi\n",
            "Enter your Date of Birth: 31/12/1998\n",
            "\n",
            " Full Name: Raj Aryan\n",
            "Address: 24th steet, Delhi \n",
            "Date of Birth: 31/12/1998\n",
            "Email id: Aryan.Raj@gmail.com\n"
          ]
        }
      ]
    },
    {
      "cell_type": "markdown",
      "source": [
        "#7. Convert the following -\n",
        "\"22.4\" into integer\n",
        "\n",
        "\"22\" into complex no."
      ],
      "metadata": {
        "id": "z4kRkKeb4wFI"
      }
    },
    {
      "cell_type": "code",
      "source": [
        "num1 = \"22.4\" #this is string\n",
        "print(f\"Before converting, the data type of num1 is: {type(num1)}, value of num1: {num1}\")\n",
        "num1 = float(num1) #22.4 is a float so first convert to float\n",
        "num1 = int(num1) #now convert to int\n",
        "print(f\"After converting, the data type of num1 is: {type(num1)}, value of num1: {num1}\")\n"
      ],
      "metadata": {
        "colab": {
          "base_uri": "https://localhost:8080/"
        },
        "id": "AoUAiZ6EcMll",
        "outputId": "9da6dc36-cf77-4b9f-9461-c85b9f1a8b49"
      },
      "execution_count": 15,
      "outputs": [
        {
          "output_type": "stream",
          "name": "stdout",
          "text": [
            "Before converting, the data type of num1 is: <class 'str'>, value of num1: 22.4\n",
            "After converting, the data type of num1 is: <class 'int'>, value of num1: 22\n"
          ]
        }
      ]
    },
    {
      "cell_type": "code",
      "source": [
        "num2 = \"22\" #this is string\n",
        "print(f\"Before converting, the data type of num2 is: {type(num2)}, value of num2: {num2}\")\n",
        "num2 = complex(num2) #22 is real no. so direct convert to complex\n",
        "print(f\"After converting, the data type of num2 is: {type(num2)}, value of num2: {num2}\")\n"
      ],
      "metadata": {
        "colab": {
          "base_uri": "https://localhost:8080/"
        },
        "outputId": "7d652404-5e80-41b0-e8bc-759c1f994ee2",
        "id": "5koxEyKLfXH8"
      },
      "execution_count": 16,
      "outputs": [
        {
          "output_type": "stream",
          "name": "stdout",
          "text": [
            "Before converting, the data type of num2 is: <class 'str'>, value of num2: 22\n",
            "After converting, the data type of num2 is: <class 'complex'>, value of num2: (22+0j)\n"
          ]
        }
      ]
    }
  ]
}