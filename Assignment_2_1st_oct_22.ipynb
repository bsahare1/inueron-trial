{
  "nbformat": 4,
  "nbformat_minor": 0,
  "metadata": {
    "colab": {
      "provenance": []
    },
    "kernelspec": {
      "name": "python3",
      "display_name": "Python 3"
    },
    "language_info": {
      "name": "python"
    }
  },
  "cells": [
    {
      "cell_type": "markdown",
      "source": [
        "#1. What is indentation error? Why indentation is important? Give one simple example?\n",
        "\n",
        "\n",
        "##*Ans:*\n",
        "\n",
        "- indentation error is an error which occurs when spaces and tabs are not placed properly while coding\n",
        "- indentation is important for proper arrangements of code, to indicate blocks of code and also for readability\n",
        "\n",
        "- example below:\n"
      ],
      "metadata": {
        "id": "bZTB5tiRG3K7"
      }
    },
    {
      "cell_type": "code",
      "source": [
        "a = 5\n",
        "b = 3\n",
        "if a > b:\n",
        "print(\"a is larger than b\")"
      ],
      "metadata": {
        "colab": {
          "base_uri": "https://localhost:8080/",
          "height": 130
        },
        "id": "7WTGUV8rfUmW",
        "outputId": "88a90d3b-8682-41f8-87dc-6a62d62cfbb1"
      },
      "execution_count": null,
      "outputs": [
        {
          "output_type": "error",
          "ename": "IndentationError",
          "evalue": "ignored",
          "traceback": [
            "\u001b[0;36m  File \u001b[0;32m\"<ipython-input-33-5f96eb66ebcd>\"\u001b[0;36m, line \u001b[0;32m4\u001b[0m\n\u001b[0;31m    print(\"a is larger than b\")\u001b[0m\n\u001b[0m        ^\u001b[0m\n\u001b[0;31mIndentationError\u001b[0m\u001b[0;31m:\u001b[0m expected an indented block\n"
          ]
        }
      ]
    },
    {
      "cell_type": "markdown",
      "source": [
        "#2. Correct the following code and write the comment where you made the correction?\n",
        "\n",
        "\n",
        "\n",
        "```python\n",
        "class_started = bool(input(\"Hey friend, is class started?: [0-False/1-True]\"))\n",
        "\n",
        "if class_started:\n",
        "   print(\"Since class started...\")\n",
        "   print(\"Lets concentrate\")\n",
        "else:\n",
        "   print(\"Since class is not started...\")\n",
        "   print(\"let's revise\")    \n",
        "```\n",
        "\n"
      ],
      "metadata": {
        "id": "V73eTd8xG7X3"
      }
    },
    {
      "cell_type": "code",
      "source": [
        "class_started = bool(int(input(\"Hey friend, is class started?: [0-False/1-True] \")))\n",
        "        \n",
        "#input method takes anything entered as a string...\n",
        "#so first I converted its input into int..to make use of bool method\n",
        "        \n",
        "if class_started:\n",
        "   print(\"Since class started...\")\n",
        "   print(\"Lets concentrate\")\n",
        "else:\n",
        "   print(\"Since class is not started...\")\n",
        "   print(\"let's revise\") "
      ],
      "metadata": {
        "colab": {
          "base_uri": "https://localhost:8080/"
        },
        "id": "O-d9IOaiKdjL",
        "outputId": "a82f35b1-aa66-440c-e18c-e13a55697473"
      },
      "execution_count": null,
      "outputs": [
        {
          "output_type": "stream",
          "name": "stdout",
          "text": [
            "Hey friend, is class started?: [0-False/1-True] 0\n",
            "Since class is not started...\n",
            "let's revise\n"
          ]
        }
      ]
    },
    {
      "cell_type": "markdown",
      "source": [
        "#3. Use if else condition to verify that dataype of `input()` method in python is always string.\n"
      ],
      "metadata": {
        "id": "3w5iWaFzHuvv"
      }
    },
    {
      "cell_type": "code",
      "source": [
        "input_trial = input(\"Enter any input to check if its a string only: \")\n",
        "if type(input_trial) == str:\n",
        "  print(\"The dataype of input() method in python is a string.\")\n",
        "else:\n",
        "  print(\"It is not a string.\")"
      ],
      "metadata": {
        "colab": {
          "base_uri": "https://localhost:8080/"
        },
        "id": "cLBzJ_AUMIyP",
        "outputId": "b962bb04-0ab0-4e43-d4c2-66b016c8fea8"
      },
      "execution_count": null,
      "outputs": [
        {
          "output_type": "stream",
          "name": "stdout",
          "text": [
            "Enter any input to check if its a string only: 484\n",
            "The dataype of input() method in python is a string.\n"
          ]
        }
      ]
    },
    {
      "cell_type": "markdown",
      "source": [
        "#4. Take 3 variables and assign integer values to them. Find the largest variable, by only using the if and else conditions."
      ],
      "metadata": {
        "id": "v3mAhGMtHwTs"
      }
    },
    {
      "cell_type": "code",
      "source": [
        "x = 65\n",
        "y = 1444\n",
        "z = -5410\n",
        "if x > y:\n",
        "  if x > z:\n",
        "    print(f\"{x} is the largest no.\")\n",
        "  else:\n",
        "    print(f\"{z} is the largest no.\")\n",
        "else:\n",
        "  if y > z:\n",
        "    print(f\"{y} is the largest no.\")\n",
        "  else:\n",
        "    print(f\"{z} is the largest no.\")"
      ],
      "metadata": {
        "colab": {
          "base_uri": "https://localhost:8080/"
        },
        "id": "v3urA6H5MUnH",
        "outputId": "d71b3c9f-fe07-45a6-a077-d3f65bf71566"
      },
      "execution_count": null,
      "outputs": [
        {
          "output_type": "stream",
          "name": "stdout",
          "text": [
            "1444 is the largest no.\n"
          ]
        }
      ]
    },
    {
      "cell_type": "markdown",
      "source": [
        "5. What would be the solution?\n",
        "\n",
        "    1. True\n",
        "    2. False\n",
        "\n",
        "    ```python\n",
        "    a = 6\n",
        "    b = 10\n",
        "    print( not ( not a == 10 or not b == 10) )\n",
        "    ```\n",
        "    \n",
        "##*Ans: False*"
      ],
      "metadata": {
        "id": "OIW4DksiH1sA"
      }
    },
    {
      "cell_type": "markdown",
      "source": [
        "6. Find the answer as well as find out the reason behind the result? -\n",
        "\n",
        "    - case 1:\n",
        "        ```python\n",
        "        A = 5.0\n",
        "        B = 10/2\n",
        "        print(A is B)\n",
        "        ```\n",
        "    - case 2:\n",
        "        ```python\n",
        "        A = 5.0\n",
        "        B = int(10/2)\n",
        "        print(A is B)\n",
        "        ```\n",
        "    - case 3:\n",
        "        ```python\n",
        "        A = 5.0\n",
        "        B = float(10/2)\n",
        "        print(A is B)\n",
        "        ```"
      ],
      "metadata": {
        "id": "GGWs-14aH8RT"
      }
    },
    {
      "cell_type": "code",
      "source": [
        "#case 1:\n",
        "\n",
        "A = 5.0\n",
        "B = 10/2\n",
        "print(A is B)\n",
        "\n",
        "\"\"\"\n",
        "Result is False because when using 'is' and 'is not', we are also comparing memory location\n",
        "Memory locations for Float values are different (even if they are same values)\n",
        "Therefore False\n",
        "\"\"\""
      ],
      "metadata": {
        "colab": {
          "base_uri": "https://localhost:8080/",
          "height": 70
        },
        "id": "l4WtNY8FNTJT",
        "outputId": "05b5a6b8-25a3-4341-d0a9-47a3d1c87d75"
      },
      "execution_count": null,
      "outputs": [
        {
          "output_type": "stream",
          "name": "stdout",
          "text": [
            "False\n"
          ]
        },
        {
          "output_type": "execute_result",
          "data": {
            "text/plain": [
              "\"\\nResult is False because when using 'is' and 'is not', we are also comparing memory location\\nMemory locations for Float values are different (even if they are same values)\\nTherefore False\\n\""
            ],
            "application/vnd.google.colaboratory.intrinsic+json": {
              "type": "string"
            }
          },
          "metadata": {},
          "execution_count": 12
        }
      ]
    },
    {
      "cell_type": "code",
      "source": [
        "#case 2:\n",
        "\n",
        "A = 5.0\n",
        "B = int(10/2)\n",
        "print(A is B)\n",
        "\n",
        "\"\"\"\n",
        "Result is False because when using 'is' and 'is not', we are also comparing memory location\n",
        "A is a float number and B is an int number..so their memory locations are different\n",
        "Therefore False\n",
        "\"\"\""
      ],
      "metadata": {
        "colab": {
          "base_uri": "https://localhost:8080/"
        },
        "id": "IL_ELVGzO7Rn",
        "outputId": "06b6b780-00b9-4eb2-b974-e73884ed01fa"
      },
      "execution_count": null,
      "outputs": [
        {
          "output_type": "stream",
          "name": "stdout",
          "text": [
            "False\n"
          ]
        }
      ]
    },
    {
      "cell_type": "code",
      "source": [
        "#case 3:\n",
        "\n",
        "A = 5.0\n",
        "B = float(10/2)\n",
        "print(A is B)\n",
        "\n",
        "\"\"\"\n",
        "Result is False because when using 'is' and 'is not', we are also comparing memory location\n",
        "Memory locations for Float values are different (even if they are same values)\n",
        "Therefore False\n",
        "\"\"\""
      ],
      "metadata": {
        "colab": {
          "base_uri": "https://localhost:8080/",
          "height": 70
        },
        "id": "Np-syfd7PuUg",
        "outputId": "8578905d-35fb-45f2-ab27-a2b210c6ce66"
      },
      "execution_count": null,
      "outputs": [
        {
          "output_type": "stream",
          "name": "stdout",
          "text": [
            "False\n"
          ]
        },
        {
          "output_type": "execute_result",
          "data": {
            "text/plain": [
              "\"\\nResult is False because when using 'is' and 'is not', we are also comparing memory location\\nMemory locations for Float values are different (even if they are same values)\\nTherefore False\\n\""
            ],
            "application/vnd.google.colaboratory.intrinsic+json": {
              "type": "string"
            }
          },
          "metadata": {},
          "execution_count": 13
        }
      ]
    },
    {
      "cell_type": "markdown",
      "source": [
        "### Try to understand the following examples and answer the question based on it - \n",
        "    \n",
        "**Arithmatic Operators**\n",
        "\n",
        "|Operation|Meaning|\n",
        "|:-:|:-:|\n",
        "| **+** |addition|\n",
        "| **-** |subtraction|\n",
        "| **\\*** |multiplication|\n",
        "| **/** |true division|\n",
        "| **//** |integer division|\n",
        "| **%** |the modulo operator|\n",
        "\n",
        "\n",
        "Here `+`, `-`, `*`, `/` are regular arithmatic operators. Lets look at the `//` and `%` operators\n",
        "\n",
        "Usecase or examples - \n",
        "    \n",
        "```python\n",
        "var_a = 5\n",
        "var_b = 25\n",
        "integer_division = var_b // var_a\n",
        "print(f\"integer division: {var_b}/{var_a}={integer_division}\")\n",
        "```\n",
        "\n",
        "OUTPUT: integer division: 25/5=5\n",
        "\n",
        "```python\n",
        "var_a = 3\n",
        "var_b = 25\n",
        "integer_division = var_b // var_a\n",
        "print(f\"integer division: {var_b}/{var_a}={integer_division}\")\n",
        "```\n",
        "\n",
        "OUTPUT: integer division: 25/3=8\n",
        "\n",
        "```python\n",
        "var_a = 5\n",
        "var_b = 25\n",
        "remainder = var_b % var_a\n",
        "print(f\"remainder: {var_b}/{var_a} is {remainder}\")\n",
        "```\n",
        "\n",
        "OUTPUT: remainder: 25/5 is 0\n",
        "\n",
        "```python\n",
        "var_a = 3\n",
        "var_b = 25\n",
        "remainder = var_b % var_a\n",
        "print(f\"remainder: {var_b}/{var_a} is {remainder}\")\n",
        "```\n",
        "\n",
        "OUTPUT: remainder: 25/3 is 1\n",
        "\n",
        "# Answer below questions on the above theory - \n"
      ],
      "metadata": {
        "id": "94Zaru-SImfG"
      }
    },
    {
      "cell_type": "markdown",
      "source": [
        "#7. Write a program that asks the user to enter a number. You should print out a message to the user, either “That number is divisible by either 3 or 5”, or “That number is not divisible by either 3 or 5”. Be sure to consider the data type of the input you are taking in from the user. Use a single if/else block to solve this problem."
      ],
      "metadata": {
        "id": "uPaX4HfbI1ew"
      }
    },
    {
      "cell_type": "code",
      "source": [
        "num = int(input(\"Enter the number: \"))\n",
        "if num % 3 == 0 or num % 5 == 0:\n",
        "  print(f\"{num} is divisible by either 3 or 5.\")\n",
        "else:\n",
        "  print(f\"{num} is not divisible by either 3 or 5.\")\n"
      ],
      "metadata": {
        "colab": {
          "base_uri": "https://localhost:8080/"
        },
        "id": "VWgQ4HQ-SDqS",
        "outputId": "2d290b68-ee52-41e5-f962-985be9012807"
      },
      "execution_count": 36,
      "outputs": [
        {
          "output_type": "stream",
          "name": "stdout",
          "text": [
            "Enter the number: 17\n",
            "17 is not divisible by either 3 or 5.\n"
          ]
        }
      ]
    },
    {
      "cell_type": "markdown",
      "source": [
        "#8. Take user input for length and width. Then calculate the area of rectangle. Also print as per length and width whether its a square of rectangle."
      ],
      "metadata": {
        "id": "4jTqVvQII6HL"
      }
    },
    {
      "cell_type": "code",
      "source": [
        "length = float(input(\"Enter the length: \"))\n",
        "width = float(input(\"Enter the width: \"))\n",
        "area = length * width\n",
        "\n",
        "if length == width:\n",
        "  print(f\"It's a square with an area {area} sq. units.\")\n",
        "else:\n",
        "  print(f\"It's a normal rectangle with an area {area} sq. units.\")"
      ],
      "metadata": {
        "colab": {
          "base_uri": "https://localhost:8080/"
        },
        "id": "6VK4bVQWTmAL",
        "outputId": "7bdb90f0-8d2a-4176-82f9-517a311dde0f"
      },
      "execution_count": null,
      "outputs": [
        {
          "output_type": "stream",
          "name": "stdout",
          "text": [
            "Enter the length: 11\n",
            "Enter the width: 11\n",
            "It's a square with an area 121.0 sq. units.\n"
          ]
        }
      ]
    },
    {
      "cell_type": "markdown",
      "source": [
        "#9. Take two variable radius_1 and radius_2 and calculate the area of circle_1 and circle_2. Also print which circle has large area. If area is equal then print area is equal."
      ],
      "metadata": {
        "id": "2T5UuiKaJAfM"
      }
    },
    {
      "cell_type": "code",
      "source": [
        "radius_1 = float(input(\"Enter radius_1: \"))\n",
        "radius_2 = float(input(\"Enter radius_2: \"))\n",
        "\n",
        "area1 = 22/7 * (radius_1)**2\n",
        "area2 = 22/7 * (radius_2)**2\n",
        "\n",
        "if area1 > area2:\n",
        "  print(f\"circle_1 has larger area({area1} sq. units) than circle_2 area({area2}) \")\n",
        "else:\n",
        "  if area1 < area2:\n",
        "    print(f\"circle_2 has larger area({area2} sq. units) than circle_1 area({area1}) \")\n",
        "  else:\n",
        "    print(f\"Both circles have same area: {area1} sq. units\")\n",
        "\n"
      ],
      "metadata": {
        "colab": {
          "base_uri": "https://localhost:8080/"
        },
        "id": "9iiLizO4VVIz",
        "outputId": "3335d71a-8213-4178-d95e-163e22f1d001"
      },
      "execution_count": null,
      "outputs": [
        {
          "output_type": "stream",
          "name": "stdout",
          "text": [
            "Enter radius_1: 4\n",
            "Enter radius_2: 8\n",
            "circle_2 has larger area(201.14285714285714 sq. units) than circle_1 area(50.285714285714285) \n"
          ]
        }
      ]
    },
    {
      "cell_type": "markdown",
      "source": [
        "#10. Check whether a year is leap year or not. Use nested if...else to solve this problem. A leap year is exactly divisible by 4 except for century years (years ending with 00). The century year is a leap year only if it is perfectly divisible by 400."
      ],
      "metadata": {
        "id": "kTH6DYCPJHH6"
      }
    },
    {
      "cell_type": "code",
      "source": [
        "year = int(input(\"Enter the year to check if is a leap year: \"))\n",
        "\n",
        "if year % 100 == 0:\n",
        "  if year % 400 == 0:\n",
        "    print(f\"It's a leap year.\")\n",
        "  else:\n",
        "    print(f\"It's not a leap year.\")\n",
        "else:\n",
        "  if year % 4 == 0:\n",
        "    print(f\"It's a leap year.\")\n",
        "  else:\n",
        "    print(f\"It's not a leap year.\")"
      ],
      "metadata": {
        "colab": {
          "base_uri": "https://localhost:8080/"
        },
        "id": "pCX9IJqwZwzd",
        "outputId": "f0c008fc-9817-4df3-897b-5012ac35a442"
      },
      "execution_count": null,
      "outputs": [
        {
          "output_type": "stream",
          "name": "stdout",
          "text": [
            "Enter the year to check if is a leap year: 2008\n",
            "It's a leap year.\n"
          ]
        }
      ]
    }
  ]
}