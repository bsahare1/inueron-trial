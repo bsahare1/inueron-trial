{
  "nbformat": 4,
  "nbformat_minor": 0,
  "metadata": {
    "colab": {
      "provenance": []
    },
    "kernelspec": {
      "name": "python3",
      "display_name": "Python 3"
    },
    "language_info": {
      "name": "python"
    }
  },
  "cells": [
    {
      "cell_type": "markdown",
      "source": [
        "#1. Count the number of times `iNeuron` appears in the string.\n",
        "```python\n",
        "text = \"Welcome to iNeuron, You are a part of FSDS Bootcamp 2 in iNeuron. I hope you are enjoying the course by iNeuron\"\n",
        "```"
      ],
      "metadata": {
        "id": "Am5ersvMqr6G"
      }
    },
    {
      "cell_type": "code",
      "source": [
        "text = \"Welcome to iNeuron, You are a part of FSDS Bootcamp 2 in iNeuron. I hope you are enjoying the course by iNeuron\"\n",
        "n = text.count(\"iNeuron\")\n",
        "print(f\"Given text: {text} \\n 'iNeuron' appears for {n} times\")"
      ],
      "metadata": {
        "colab": {
          "base_uri": "https://localhost:8080/"
        },
        "id": "QByMk6U3rKXu",
        "outputId": "fd3839a9-d05d-46e8-c24b-1118ce9fbe13"
      },
      "execution_count": 30,
      "outputs": [
        {
          "output_type": "stream",
          "name": "stdout",
          "text": [
            "Given text: Welcome to iNeuron, You are a part of FSDS Bootcamp 2 in iNeuron. I hope you are enjoying the course by iNeuron \n",
            " 'iNeuron' appears for 3 times\n"
          ]
        }
      ]
    },
    {
      "cell_type": "markdown",
      "source": [
        "#2. Check if position `5` to `11` ends with the phrase `iNeuron.` in the string \n",
        "```python\n",
        "txt = \"Hello, welcome to FSDS 2.0 at iNeuron.\"\n",
        "```"
      ],
      "metadata": {
        "id": "VTE9CbalqvlB"
      }
    },
    {
      "cell_type": "code",
      "source": [
        "txt = \"Hello, welcome to FSDS 2.0 at iNeuron.\"\n",
        "print(f\"Given string: {txt}\")\n",
        "if txt[5:12].endswith(\"iNeuron.\"): # as upto n-1\n",
        "  print(\"position 5 to 11 ends with the phrase iNeuron. in the string\")\n",
        "else:\n",
        "  print(\"position 5 to 11 doesn't end with the phrase iNeuron. in the string\")"
      ],
      "metadata": {
        "colab": {
          "base_uri": "https://localhost:8080/"
        },
        "id": "-25qZ7SBrpxS",
        "outputId": "9d9ebb52-bf36-4c3e-f507-6b20470f156d"
      },
      "execution_count": null,
      "outputs": [
        {
          "output_type": "stream",
          "name": "stdout",
          "text": [
            "Given string: Hello, welcome to FSDS 2.0 at iNeuron.\n",
            "position 5 to 11 doesn't end with the phrase iNeuron. in the string\n"
          ]
        }
      ]
    },
    {
      "cell_type": "markdown",
      "source": [
        "#3. Write a program that takes your full name as input and displays the abbreviations of the first and middle names except the last name which is displayed as it is. For example, if your name is Sunny Bhaveen Chandra, then the output should be S.B.Chandra."
      ],
      "metadata": {
        "id": "p6jsSZLYq1dC"
      }
    },
    {
      "cell_type": "code",
      "source": [
        "name = input(\"Enter your full name please: \")\n",
        "name = name.title() #to make name as title, irrespective of upper/lower case of input\n",
        "name = name.split(\" \") #spliting it..now this is a list with 3 strings\n",
        "print(f\"Abbreviated name: {name[0][0]}.{name[1][0]}. {name[2]}\") #accessing strings from lists and using methods on them"
      ],
      "metadata": {
        "colab": {
          "base_uri": "https://localhost:8080/"
        },
        "id": "YaaCLxYWsv-6",
        "outputId": "02bd3f45-b7f1-43db-a8c4-61b6789d0ad3"
      },
      "execution_count": 14,
      "outputs": [
        {
          "output_type": "stream",
          "name": "stdout",
          "text": [
            "Enter your full name please: sunny Bhaveen chandra\n",
            "Abbreviated name: S.B. Chandra\n"
          ]
        }
      ]
    },
    {
      "cell_type": "markdown",
      "source": [
        "#4. Join all items in a list into a string, using a hash(`#`) character as separator:\n",
        "```python\n",
        "LIST = [\"My\", \"name\", \"is\", \"Rishav\", \"Dash\"]\n",
        "```"
      ],
      "metadata": {
        "id": "-V42QPPYq4jK"
      }
    },
    {
      "cell_type": "code",
      "source": [
        "LIST = [\"My\", \"name\", \"is\", \"Rishav\", \"Dash\"]\n",
        "\"#\".join (LIST)"
      ],
      "metadata": {
        "colab": {
          "base_uri": "https://localhost:8080/",
          "height": 36
        },
        "id": "Kd3cDrQk0y_k",
        "outputId": "d1fafc9a-2fb2-486d-fde5-607cb17f70cd"
      },
      "execution_count": 15,
      "outputs": [
        {
          "output_type": "execute_result",
          "data": {
            "text/plain": [
              "'My#name#is#Rishav#Dash'"
            ],
            "application/vnd.google.colaboratory.intrinsic+json": {
              "type": "string"
            }
          },
          "metadata": {},
          "execution_count": 15
        }
      ]
    },
    {
      "cell_type": "markdown",
      "source": [
        "#5. Write example for the following string manipulation function,\n",
        "\n",
        "  ```\n",
        "  - isdecimal()\n",
        "  - islower()\n",
        "  - isupper()\n",
        "  - isalpha()\n",
        "  - isnumeric()\n",
        "\n",
        "  ```"
      ],
      "metadata": {
        "id": "lSgev4ZRq-A6"
      }
    },
    {
      "cell_type": "code",
      "source": [
        "x = input(\"Enter string to chack isdecimal(): \")\n",
        "x.isdecimal()"
      ],
      "metadata": {
        "colab": {
          "base_uri": "https://localhost:8080/"
        },
        "id": "s8DdmVfK22ut",
        "outputId": "c7d74075-9b6a-43b0-c0d9-b2823d8fa448"
      },
      "execution_count": 20,
      "outputs": [
        {
          "name": "stdout",
          "output_type": "stream",
          "text": [
            "Enter string to chack isdecimal(): 7878\n"
          ]
        },
        {
          "output_type": "execute_result",
          "data": {
            "text/plain": [
              "True"
            ]
          },
          "metadata": {},
          "execution_count": 20
        }
      ]
    },
    {
      "cell_type": "code",
      "source": [
        "x = input(\"Enter string to chack islower(): \")\n",
        "x.islower()"
      ],
      "metadata": {
        "colab": {
          "base_uri": "https://localhost:8080/"
        },
        "id": "iCUXXmc53p3c",
        "outputId": "ccd61b60-6dee-4517-96d8-ff9f1523d974"
      },
      "execution_count": 21,
      "outputs": [
        {
          "name": "stdout",
          "output_type": "stream",
          "text": [
            "Enter string to chack islower(): Delhi\n"
          ]
        },
        {
          "output_type": "execute_result",
          "data": {
            "text/plain": [
              "False"
            ]
          },
          "metadata": {},
          "execution_count": 21
        }
      ]
    },
    {
      "cell_type": "code",
      "source": [
        "x = input(\"Enter string to chack isupper(): \")\n",
        "x.isupper()"
      ],
      "metadata": {
        "colab": {
          "base_uri": "https://localhost:8080/"
        },
        "id": "cSaR61uy3tW8",
        "outputId": "43977dbe-2d14-4d81-b88d-bb322ac14253"
      },
      "execution_count": 22,
      "outputs": [
        {
          "name": "stdout",
          "output_type": "stream",
          "text": [
            "Enter string to chack isupper(): INDIA\n"
          ]
        },
        {
          "output_type": "execute_result",
          "data": {
            "text/plain": [
              "True"
            ]
          },
          "metadata": {},
          "execution_count": 22
        }
      ]
    },
    {
      "cell_type": "code",
      "source": [
        "x = input(\"Enter string to chack isalpha(): \")\n",
        "x.isalpha()"
      ],
      "metadata": {
        "colab": {
          "base_uri": "https://localhost:8080/"
        },
        "id": "zbCdChEQ3upj",
        "outputId": "ae6de067-9035-407f-fbc6-b0e7fae395fe"
      },
      "execution_count": 26,
      "outputs": [
        {
          "name": "stdout",
          "output_type": "stream",
          "text": [
            "Enter string to chack isalpha(): Mumbai\n"
          ]
        },
        {
          "output_type": "execute_result",
          "data": {
            "text/plain": [
              "True"
            ]
          },
          "metadata": {},
          "execution_count": 26
        }
      ]
    },
    {
      "cell_type": "code",
      "source": [
        "x = input(\"Enter string to chack isnumeric(): \")\n",
        "x.isnumeric()"
      ],
      "metadata": {
        "colab": {
          "base_uri": "https://localhost:8080/"
        },
        "id": "U181Mw5-3v8b",
        "outputId": "b69e2ec8-195d-4fc8-b499-afee9d1e0d16"
      },
      "execution_count": 24,
      "outputs": [
        {
          "name": "stdout",
          "output_type": "stream",
          "text": [
            "Enter string to chack isnumeric(): 7875\n"
          ]
        },
        {
          "output_type": "execute_result",
          "data": {
            "text/plain": [
              "True"
            ]
          },
          "metadata": {},
          "execution_count": 24
        }
      ]
    },
    {
      "cell_type": "markdown",
      "source": [
        "#6. Indian PAN card format follows the following formats - \n",
        "    - `AYEPC7894X`\n",
        "    - `ABCDE9999Y`\n",
        "  Take user input for PAN_CARD and validate as per the above example.\n"
      ],
      "metadata": {
        "id": "6TpcKjajrCVQ"
      }
    },
    {
      "cell_type": "code",
      "source": [
        "pan = input(\"Enter your alphanumeric pan no. having 10 characters: \\n\")\n",
        "if pan[0:5].isupper() and pan[5:9].isdigit() and pan[9].isupper() and len(pan)==10:\n",
        "  print(\"Your pan no. is valid.\")\n",
        "elif not pan[0:5].isupper():\n",
        "  print(\"Your pan no. is not valid. Enter correct aphabets in upper case at right places.\")\n",
        "elif not pan[5:9].isdigit():\n",
        "   print(\"Your pan no. is not valid. Enter correct  digits at right places.\")\n",
        "elif not pan[9].isupper():\n",
        "  print(\"Your pan no. is not valid. Enter correct aphabet in upper case at last place.\")\n",
        "elif len(pan)==10:\n",
        "  print(\"Your pan no. is not valid. Enter 10 characters correctly.\")"
      ],
      "metadata": {
        "colab": {
          "base_uri": "https://localhost:8080/"
        },
        "id": "FmqZM6fLwRj2",
        "outputId": "52a44b92-d308-4704-983b-0f95306b876c"
      },
      "execution_count": 27,
      "outputs": [
        {
          "output_type": "stream",
          "name": "stdout",
          "text": [
            "Enter your alphanumeric pan no. having 10 characters: \n",
            "ASDFG4453J\n",
            "Your pan no. is valid.\n"
          ]
        }
      ]
    }
  ]
}